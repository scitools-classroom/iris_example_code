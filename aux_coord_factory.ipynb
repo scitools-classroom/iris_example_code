{
 "cells": [
  {
   "cell_type": "markdown",
   "id": "cdc2a861-ef29-44d4-b851-4bfd527b4096",
   "metadata": {},
   "source": [
    "# WARNING : this notebook still needs modernising. See [iris_example_code#12](https://github.com/scitools-classroom/iris_example_code/issues/12) for more details"
   ]
  },
  {
   "cell_type": "markdown",
   "id": "f96045b1",
   "metadata": {},
   "source": [
    "## Creating an Aux Coordinate Factory ##\n",
    "\n",
    "\n",
    "### Introduction ###\n",
    "\n",
    "Aux coordinate factories are useful for generating an auxiliary coordinate in a deferred manner when it is not appropriate to generate an aux coord in the default manner, for example because the resultant cube would become unnecessarily large.\n",
    "\n",
    "However, much like a real factory, they are not easy to build! To build an aux factory we are going to have to define our own class, which inherits from the general aux factory class, specifically for the aux coordinates we need to derive here.\n",
    "\n",
    "Please note that there are plans in place to improve the aux factory API so that in the future it will be much easier to build such a bespoke aux factory. When that occurs this example **will no longer work**. But it will be much easier to build an aux factory!\n",
    "\n",
    "As ever, we will start with importing some required libraries."
   ]
  },
  {
   "cell_type": "code",
   "execution_count": 2,
   "id": "99188f92",
   "metadata": {
    "collapsed": false,
    "jupyter": {
     "outputs_hidden": false
    }
   },
   "outputs": [
    {
     "name": "stdout",
     "output_type": "stream",
     "text": [
      "3.10.0\n"
     ]
    }
   ],
   "source": [
    "import numpy as np\n",
    "\n",
    "import iris\n",
    "import iris.aux_factory as aux_factory\n",
    "\n",
    "print (iris.__version__)"
   ]
  },
  {
   "cell_type": "markdown",
   "id": "40031971",
   "metadata": {},
   "source": [
    "### Define data and constants ###\n",
    "\n",
    "Let's import the cube that we are going to build an aux factory for. One further slightly unusual piece of data we will need for our aux factory is the coordinate dimension, as determined by the cube method `coord_dims`, for each coordinate on the cube that we will pass to our aux factory. To demonstrate what it does, the result for each dimension is also printed.\n",
    "\n",
    "We will also need a few physical constants defined, so they're going in here too."
   ]
  },
  {
   "cell_type": "code",
   "execution_count": 3,
   "id": "a7752389",
   "metadata": {
    "collapsed": false,
    "jupyter": {
     "outputs_hidden": false
    }
   },
   "outputs": [
    {
     "name": "stdout",
     "output_type": "stream",
     "text": [
      "Clutter indicator / (unknown)       (azimuth: 360; range: 425)\n",
      "    Dimension coordinates:\n",
      "        azimuth                             x           -\n",
      "        range                               -           x\n",
      "    Scalar coordinates:\n",
      "        altitude                    511.0 meter\n",
      "        beam_width                  1.0 degree\n",
      "        featureType                 ppi\n",
      "        frequency                   5.608008981 GHz\n",
      "        latitude                    52.39805555555556 degrees\n",
      "        longitude                   -2.593611111111111 degrees\n",
      "        platform_altitude           511.0 meter\n",
      "        platform_id                 3\n",
      "        scan_elevation_angle        0.0 degree\n",
      "        station_wmo_id              Clee Hill\n",
      "        time                        2013-07-20 11:59:00\n",
      "    Attributes:\n",
      "        Conventions                 'CF-1.5'\n",
      "(0,)\n",
      "(1,)\n"
     ]
    }
   ],
   "source": [
    "EARTH_RAD_CORR_FAC = 1.33;\n",
    "EARTH_RADIUS = 6371229;\n",
    "KEA = EARTH_RADIUS * EARTH_RAD_CORR_FAC\n",
    "EARTH_CIRC =  2.0 * np.pi * EARTH_RADIUS\n",
    "\n",
    "cube = iris.load_cube('example_data/CICube.nc')\n",
    "print (cube)\n",
    "\n",
    "azis = cube.coord('azimuth')\n",
    "rngs = cube.coord('range')\n",
    "azis_coord_dims = cube.coord_dims(azis)\n",
    "rngs_coord_dims = cube.coord_dims(rngs)\n",
    "print (azis_coord_dims)\n",
    "print (rngs_coord_dims)"
   ]
  },
  {
   "cell_type": "markdown",
   "id": "0986bcd0",
   "metadata": {},
   "source": [
    "### Factory! ###\n",
    "\n",
    "It's time to take a deep breath and start building our aux coordinate factory. This factory will inherit from the general `iris.aux_factory` class but we will need to define a number of functions of our own, including the very important function that calculates the values of the aux coordinates that our factory will build from our cube's existing dimension coordinates."
   ]
  },
  {
   "cell_type": "code",
   "execution_count": 13,
   "id": "98e89f13",
   "metadata": {
    "collapsed": false,
    "jupyter": {
     "outputs_hidden": false
    }
   },
   "outputs": [],
   "source": [
    "class LatLonFromRangeAziFactory(aux_factory.AuxCoordFactory):\n",
    "    '''\n",
    "    Defines a factory that calculates lat/lon coordinates based on azimuth and range values.\n",
    "    \n",
    "    Uses the equation:\n",
    "    ???\n",
    "    \n",
    "    '''\n",
    "    \n",
    "    def __init__(self, cube):\n",
    "        '''\n",
    "        Define a factory that calculates lat/lon coordinates based on azimuth and range values.\n",
    "        \n",
    "        Uses the equation:\n",
    "        ???\n",
    "        \n",
    "        Arg:\n",
    "        \n",
    "        * cube:\n",
    "            The cube from which the aux factory is to be constructed.\n",
    "        \n",
    "        '''\n",
    "        super(LatLonFromRangeAziFactory, self).__init__()\n",
    "        \n",
    "        self.cube = cube\n",
    "        self.units = 'degrees'\n",
    "        self.attributes = {}\n",
    "        \n",
    "        self.rng = self.cube.coord('range')\n",
    "        self.azi = self.cube.coord('azimuth')\n",
    "        self.site_lat = self.cube.coord('latitude').points\n",
    "        self.site_lon = self.cube.coord('longitude').points\n",
    "        self.site_alt = self.cube.coord('altitude').points\n",
    "        self.beam_elev = cube.coord('scan_elevation_angle').points\n",
    "        \n",
    "    @property\n",
    "    def dependencies(self):\n",
    "        '''\n",
    "        Returns a dictionary mapping from constructor argument names to\n",
    "        the corresponding coordinates.\n",
    "\n",
    "        '''\n",
    "        return {'range': self.rng, 'azimuth': self.azi}\n",
    "    \n",
    "    def _equation(self, rng, azi, coord):\n",
    "        '''\n",
    "        Performs the calculation alt/range/site location --> obs lats/lons.\n",
    "        \n",
    "        '''\n",
    "        h = (np.sqrt(rng**2 + KEA**2 + rng*2*KEA*np.sin(self.beam_elev*(np.pi/180))) -\n",
    "             KEA + self.site_alt[0])\n",
    "        s = KEA * np.arcsin((rng*np.cos(self.beam_elev[0] * (np.pi/180))) / (KEA+h))\n",
    " \n",
    "        result = None\n",
    "        if coord == 'lat':\n",
    "            result = self.site_lat + s*np.cos(azi * np.pi/180.0) * 360.0 / EARTH_CIRC\n",
    "        elif coord == 'lon':                 \n",
    "            result = (self.site_lon + s*np.sin(azi * np.pi/180.0) * 360.0 /\n",
    "                      (EARTH_CIRC * np.cos(self.site_lat * np.pi/180.0)))\n",
    "        else:\n",
    "            raise ValueError('Expected coord to be one of (lat, lon), got {}'.format(coord)) \n",
    "        return result\n",
    "    \n",
    "    def make_coord(self, coord_dims_func, coord='lat'):\n",
    "        '''\n",
    "        Returns a new :class:`iris.coords.AuxCoord` as defined by this\n",
    "        factory.\n",
    "\n",
    "        Arg:\n",
    "\n",
    "        * coord_dims_func:\n",
    "            A callable which can return the list of dimensions relevant\n",
    "            to a given coordinate.\n",
    "            See `iris.cube.Cube.coord_dims()`.\n",
    "\n",
    "        Kwarg:\n",
    "        \n",
    "        * coord (lat, lon):\n",
    "            String defining the aux coord to calculate. Defaults to 'lat'.\n",
    "            \n",
    "        '''\n",
    "        # Set standard_name based on input coord.\n",
    "        std_name = None\n",
    "        if coord == 'lat':\n",
    "            std_name = 'grid_latitude'\n",
    "        elif coord == 'lon':\n",
    "            std_name = 'grid_longitude'\n",
    "        else:\n",
    "            raise ValueError('Expected coord to be one of (lat, lon), got {}'.format(coord)) \n",
    "\n",
    "        # Which dimensions are relevant?\n",
    "        derived_dims = self.derived_dims(coord_dims_func)\n",
    "        dependency_dims = self._dependency_dims(coord_dims_func)\n",
    "\n",
    "        # Build a \"lazy\" points array.\n",
    "        nd_points_by_key = self._remap(dependency_dims, derived_dims)\n",
    "\n",
    "        # Define the function here to obtain a closure.\n",
    "        def calc_points():\n",
    "            return self._equation(nd_points_by_key['range'],\n",
    "                                  nd_points_by_key['azimuth'],\n",
    "                                  coord)\n",
    "        shape = self._shape(nd_points_by_key)\n",
    "        points = aux_factory.LazyArray(shape, calc_points)\n",
    "        \n",
    "        bounds = None\n",
    "        if ((self.rng and self.rng.nbounds) or (self.azi and self.azi.nbounds)):\n",
    "            # Build a \"lazy\" bounds array.\n",
    "            nd_values_by_key = self._remap_with_bounds(dependency_dims,\n",
    "                                                       derived_dims)\n",
    "\n",
    "            # Define the function here to obtain a closure.\n",
    "            def calc_bounds():\n",
    "                rng = nd_values_by_key['range']\n",
    "                azi = nd_values_by_key['azimuth']\n",
    "                ok_bound_shapes = [(), (1,), (2,)]\n",
    "                if rng.shape[-1:] not in ok_bound_shapes:\n",
    "                    raise ValueError('Invalid range coordinate bounds.')\n",
    "                if azi.shape[-1:] not in ok_bound_shapes:\n",
    "                    raise ValueError('Invalid azimuth coordinate bounds.')\n",
    "                return self._equation(rng, azi, coord)\n",
    "            \n",
    "            b_shape = self._shape(nd_values_by_key)\n",
    "            bounds = aux_factory.LazyArray(b_shape, calc_bounds)\n",
    "\n",
    "        aux_coord = iris.coords.AuxCoord(points,\n",
    "                                         standard_name=std_name,\n",
    "                                         long_name=self.long_name,\n",
    "                                         var_name=self.var_name,\n",
    "                                         units=self.units,\n",
    "                                         bounds=bounds,\n",
    "                                         attributes=self.attributes,\n",
    "                                         coord_system=self.coord_system)\n",
    "        return aux_coord\n",
    "        \n",
    "    def make_coords(self, coord_dims_func):\n",
    "        '''\n",
    "        As this aux factory needs to make *two* coords (lat, lon), we call :func:make_coord()\n",
    "        twice, once for each coord.\n",
    "        \n",
    "        Arg:\n",
    "\n",
    "        * coord_dims_func:\n",
    "            A callable which can return the list of dimensions relevant\n",
    "            to a given coordinate.\n",
    "            See `iris.cube.Cube.coord_dims()`.\n",
    "        \n",
    "        '''\n",
    "        lat_aux_coord = self.make_coord(coord_dims_func, coord='lat')\n",
    "        lon_aux_coord = self.make_coord(coord_dims_func, coord='lon')\n",
    "        return lat_aux_coord, lon_aux_coord\n",
    "\n",
    "    def update(self, old_coord, new_coord=None):\n",
    "        '''\n",
    "        Notifies the factory of the removal/replacement of a coordinate\n",
    "        that might be a dependency.\n",
    "\n",
    "        Args:\n",
    "\n",
    "        * old_coord:\n",
    "            The coordinate to be removed/replaced.\n",
    "        * new_coord:\n",
    "            If None, any dependency using old_coord is removed, othewise\n",
    "            any dependency using old_coord is updated to use new_coord.\n",
    "\n",
    "        '''\n",
    "        if self.rng is old_coord:\n",
    "            if new_coord and new_coord.nbounds not in (0, 2):\n",
    "                raise ValueError('Invalid range coordinate:'\n",
    "                                 ' must have either 0 or 2 bounds.')\n",
    "            self.rng = new_coord\n",
    "        elif self.azi is old_coord:\n",
    "            if new_coord and new_coord.nbounds not in (0, 2):\n",
    "                raise ValueError('Invalid azimuth coordinate:'\n",
    "                                 ' must have either 0 or 2 bounds.')\n",
    "            self.azimuth = new_coord"
   ]
  },
  {
   "cell_type": "code",
   "execution_count": 14,
   "id": "8a6941bb-1029-4dd5-a22d-df9e4323739e",
   "metadata": {},
   "outputs": [
    {
     "data": {
      "text/plain": [
       "<function print(*args, sep=' ', end='\\n', file=None, flush=False)>"
      ]
     },
     "execution_count": 14,
     "metadata": {},
     "output_type": "execute_result"
    }
   ],
   "source": [
    "print "
   ]
  },
  {
   "cell_type": "markdown",
   "id": "9ec59e18",
   "metadata": {},
   "source": [
    "### Producing aux coords with the factory ###\n",
    "\n",
    "With our shiny new aux coord factory defined we can now get on and use it to make lat and lon aux coords. We need to define a function to use as `coord_dims_func` as required by the method `make_coord` on our aux factory. Happily, the cube method `coord_dims` that we met earlier will do that job for us nicely."
   ]
  },
  {
   "cell_type": "code",
   "execution_count": 15,
   "id": "e291a6df",
   "metadata": {
    "collapsed": false,
    "jupyter": {
     "outputs_hidden": false
    }
   },
   "outputs": [
    {
     "ename": "AttributeError",
     "evalue": "'LatLonFromRangeAziFactory' object has no attribute '_shape'",
     "output_type": "error",
     "traceback": [
      "\u001b[0;31m---------------------------------------------------------------------------\u001b[0m",
      "\u001b[0;31mAttributeError\u001b[0m                            Traceback (most recent call last)",
      "Cell \u001b[0;32mIn[15], line 2\u001b[0m\n\u001b[1;32m      1\u001b[0m factory \u001b[38;5;241m=\u001b[39m LatLonFromRangeAziFactory(cube)\n\u001b[0;32m----> 2\u001b[0m lat_aux, lon_aux \u001b[38;5;241m=\u001b[39m \u001b[43mfactory\u001b[49m\u001b[38;5;241;43m.\u001b[39;49m\u001b[43mmake_coords\u001b[49m\u001b[43m(\u001b[49m\u001b[43mcube\u001b[49m\u001b[38;5;241;43m.\u001b[39;49m\u001b[43mcoord_dims\u001b[49m\u001b[43m)\u001b[49m\n\u001b[1;32m      3\u001b[0m \u001b[38;5;28mprint\u001b[39m(\u001b[38;5;124m'\u001b[39m\u001b[38;5;132;01m{}\u001b[39;00m\u001b[38;5;130;01m\\n\u001b[39;00m\u001b[38;5;130;01m\\n\u001b[39;00m\u001b[38;5;132;01m{}\u001b[39;00m\u001b[38;5;124m'\u001b[39m\u001b[38;5;241m.\u001b[39mformat(lat_aux, lon_aux))\n",
      "Cell \u001b[0;32mIn[13], line 149\u001b[0m, in \u001b[0;36mLatLonFromRangeAziFactory.make_coords\u001b[0;34m(self, coord_dims_func)\u001b[0m\n\u001b[1;32m    136\u001b[0m \u001b[38;5;28;01mdef\u001b[39;00m \u001b[38;5;21mmake_coords\u001b[39m(\u001b[38;5;28mself\u001b[39m, coord_dims_func):\n\u001b[1;32m    137\u001b[0m \u001b[38;5;250m    \u001b[39m\u001b[38;5;124;03m'''\u001b[39;00m\n\u001b[1;32m    138\u001b[0m \u001b[38;5;124;03m    As this aux factory needs to make *two* coords (lat, lon), we call :func:make_coord()\u001b[39;00m\n\u001b[1;32m    139\u001b[0m \u001b[38;5;124;03m    twice, once for each coord.\u001b[39;00m\n\u001b[0;32m   (...)\u001b[0m\n\u001b[1;32m    147\u001b[0m \u001b[38;5;124;03m    \u001b[39;00m\n\u001b[1;32m    148\u001b[0m \u001b[38;5;124;03m    '''\u001b[39;00m\n\u001b[0;32m--> 149\u001b[0m     lat_aux_coord \u001b[38;5;241m=\u001b[39m \u001b[38;5;28;43mself\u001b[39;49m\u001b[38;5;241;43m.\u001b[39;49m\u001b[43mmake_coord\u001b[49m\u001b[43m(\u001b[49m\u001b[43mcoord_dims_func\u001b[49m\u001b[43m,\u001b[49m\u001b[43m \u001b[49m\u001b[43mcoord\u001b[49m\u001b[38;5;241;43m=\u001b[39;49m\u001b[38;5;124;43m'\u001b[39;49m\u001b[38;5;124;43mlat\u001b[39;49m\u001b[38;5;124;43m'\u001b[39;49m\u001b[43m)\u001b[49m\n\u001b[1;32m    150\u001b[0m     lon_aux_coord \u001b[38;5;241m=\u001b[39m \u001b[38;5;28mself\u001b[39m\u001b[38;5;241m.\u001b[39mmake_coord(coord_dims_func, coord\u001b[38;5;241m=\u001b[39m\u001b[38;5;124m'\u001b[39m\u001b[38;5;124mlon\u001b[39m\u001b[38;5;124m'\u001b[39m)\n\u001b[1;32m    151\u001b[0m     \u001b[38;5;28;01mreturn\u001b[39;00m lat_aux_coord, lon_aux_coord\n",
      "Cell \u001b[0;32mIn[13], line 103\u001b[0m, in \u001b[0;36mLatLonFromRangeAziFactory.make_coord\u001b[0;34m(self, coord_dims_func, coord)\u001b[0m\n\u001b[1;32m     99\u001b[0m \u001b[38;5;28;01mdef\u001b[39;00m \u001b[38;5;21mcalc_points\u001b[39m():\n\u001b[1;32m    100\u001b[0m     \u001b[38;5;28;01mreturn\u001b[39;00m \u001b[38;5;28mself\u001b[39m\u001b[38;5;241m.\u001b[39m_equation(nd_points_by_key[\u001b[38;5;124m'\u001b[39m\u001b[38;5;124mrange\u001b[39m\u001b[38;5;124m'\u001b[39m],\n\u001b[1;32m    101\u001b[0m                           nd_points_by_key[\u001b[38;5;124m'\u001b[39m\u001b[38;5;124mazimuth\u001b[39m\u001b[38;5;124m'\u001b[39m],\n\u001b[1;32m    102\u001b[0m                           coord)\n\u001b[0;32m--> 103\u001b[0m shape \u001b[38;5;241m=\u001b[39m \u001b[38;5;28;43mself\u001b[39;49m\u001b[38;5;241;43m.\u001b[39;49m\u001b[43m_shape\u001b[49m(nd_points_by_key)\n\u001b[1;32m    104\u001b[0m points \u001b[38;5;241m=\u001b[39m aux_factory\u001b[38;5;241m.\u001b[39mLazyArray(shape, calc_points)\n\u001b[1;32m    106\u001b[0m bounds \u001b[38;5;241m=\u001b[39m \u001b[38;5;28;01mNone\u001b[39;00m\n",
      "\u001b[0;31mAttributeError\u001b[0m: 'LatLonFromRangeAziFactory' object has no attribute '_shape'"
     ]
    }
   ],
   "source": [
    "factory = LatLonFromRangeAziFactory(cube)\n",
    "lat_aux, lon_aux = factory.make_coords(cube.coord_dims)\n",
    "print('{}\\n\\n{}'.format(lat_aux, lon_aux))"
   ]
  },
  {
   "cell_type": "markdown",
   "id": "1141015d",
   "metadata": {},
   "source": [
    "Seeing as we have got so far, we might as well push the boat fully out and plot the cube's data against our new aux coords:"
   ]
  },
  {
   "cell_type": "code",
   "execution_count": 16,
   "id": "54946fe3",
   "metadata": {
    "collapsed": false,
    "jupyter": {
     "outputs_hidden": false
    }
   },
   "outputs": [
    {
     "ename": "NameError",
     "evalue": "name 'lon_aux' is not defined",
     "output_type": "error",
     "traceback": [
      "\u001b[0;31m---------------------------------------------------------------------------\u001b[0m",
      "\u001b[0;31mNameError\u001b[0m                                 Traceback (most recent call last)",
      "Cell \u001b[0;32mIn[16], line 7\u001b[0m\n\u001b[1;32m      5\u001b[0m ax \u001b[38;5;241m=\u001b[39m plt\u001b[38;5;241m.\u001b[39maxes(projection\u001b[38;5;241m=\u001b[39mccrs\u001b[38;5;241m.\u001b[39mPlateCarree())\n\u001b[1;32m      6\u001b[0m ax\u001b[38;5;241m.\u001b[39mcoastlines(\u001b[38;5;124m'\u001b[39m\u001b[38;5;124m50m\u001b[39m\u001b[38;5;124m'\u001b[39m, color\u001b[38;5;241m=\u001b[39m\u001b[38;5;124m'\u001b[39m\u001b[38;5;124mb\u001b[39m\u001b[38;5;124m'\u001b[39m)\n\u001b[0;32m----> 7\u001b[0m plt\u001b[38;5;241m.\u001b[39mpcolormesh(\u001b[43mlon_aux\u001b[49m\u001b[38;5;241m.\u001b[39mpoints, lat_aux\u001b[38;5;241m.\u001b[39mpoints, cube\u001b[38;5;241m.\u001b[39mdata)\n\u001b[1;32m      8\u001b[0m plt\u001b[38;5;241m.\u001b[39mshow()\n",
      "\u001b[0;31mNameError\u001b[0m: name 'lon_aux' is not defined"
     ]
    },
    {
     "data": {
      "image/png": "[encoded data removed]",
      "text/plain": [
       "<Figure size 800x600 with 1 Axes>"
      ]
     },
     "metadata": {},
     "output_type": "display_data"
    }
   ],
   "source": [
    "import matplotlib.pyplot as plt\n",
    "import cartopy.crs as ccrs\n",
    "\n",
    "fig = plt.figure(figsize=(8, 6))\n",
    "ax = plt.axes(projection=ccrs.PlateCarree())\n",
    "ax.coastlines('50m', color='b')\n",
    "plt.pcolormesh(lon_aux.points, lat_aux.points, cube.data)\n",
    "plt.show()"
   ]
  }
 ],
 "metadata": {
  "kernelspec": {
   "display_name": "Python 3 (ipykernel)",
   "language": "python",
   "name": "python3"
  },
  "language_info": {
   "codemirror_mode": {
    "name": "ipython",
    "version": 3
   },
   "file_extension": ".py",
   "mimetype": "text/x-python",
   "name": "python",
   "nbconvert_exporter": "python",
   "pygments_lexer": "ipython3",
   "version": "3.12.5"
  }
 },
 "nbformat": 4,
 "nbformat_minor": 5
}
