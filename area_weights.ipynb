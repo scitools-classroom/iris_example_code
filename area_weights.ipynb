{
 "cells": [
  {
   "cell_type": "markdown",
   "id": "baa0df9f",
   "metadata": {},
   "source": [
    "## Shapefile area averaging\n",
    "\n",
    "### Introduction\n",
    "\n",
    "This example demonstrates how to find the area weighting of a cube's data points that fall within a given geometry from a shapefile. \n",
    "\n",
    "Area weighting allows us to account for data cells that only fall partially within a given geometry, by determining the percentage of the cell's area that falls within the geometry.\n",
    "\n",
    "We can use that percentage to define its overall contribution when we perform a mathematical operation on the values within the geometry (for example by using a function from `iris.analysis` that may be used in conjunction with `cube.collapsed`).\n",
    "\n",
    "Let's look at this pictorially:"
   ]
  },
  {
   "cell_type": "markdown",
   "id": "d5d0d06e",
   "metadata": {},
   "source": [
    "![Illustration of a shapefile geometry with cube cells overlapping as indicated by the grid](files/img/area_weighting.png)"
   ]
  },
  {
   "cell_type": "markdown",
   "id": "813b212b",
   "metadata": {},
   "source": [
    "In the image the black grid is the grid of data cells from the cube, the blue line is the extent of the shapefile geometry and the green filled area is the area of the grid that sits within the shapefile. Clearly there are numerous cells toward the centre of the grid that entirely sit within the geometry, so the values of these cells will contribute 100% to the mathematical operation to be performed. However the top centre cell only overlaps the geometry by about 10%, so will only contribute 10% of its value, and so on."
   ]
  },
  {
   "cell_type": "markdown",
   "id": "4832587d",
   "metadata": {},
   "source": [
    "An example of when this might be valuable is determining the total rainfall within a UK county over a given time period. This would be done by collapsing the cube over the time dimension and finding the sum of all the values that lie within the geometry of the county we are interested in. As in the image above, not all cells will be fully contained within the geometry and so in order to determine the amount of rainfall within the county's geometry, we need to find the area-weighted amount of total rainfall for that cell that fell within the geometry."
   ]
  },
  {
   "cell_type": "markdown",
   "id": "6b480eeb",
   "metadata": {},
   "source": [
    "### Worked Example\n",
    "\n",
    "In this example we will determine the area-weighted average air temperature of the UK in the year 2098 for one of our climate future scenarios (A1B)."
   ]
  },
  {
   "cell_type": "markdown",
   "id": "50bdeb57",
   "metadata": {},
   "source": [
    "Let's start by importing the libraries we will need for this example, and checking the version of Iris being used."
   ]
  },
  {
   "cell_type": "code",
   "execution_count": 1,
   "id": "34f4d853",
   "metadata": {
    "collapsed": false,
    "jupyter": {
     "outputs_hidden": false
    }
   },
   "outputs": [],
   "source": [
    "import cartopy.io.shapereader as shpreader\n",
    "import iris\n",
    "import iris.analysis.geometry as iag"
   ]
  },
  {
   "cell_type": "code",
   "execution_count": 2,
   "id": "3817e3c9",
   "metadata": {
    "collapsed": false,
    "jupyter": {
     "outputs_hidden": false
    }
   },
   "outputs": [
    {
     "name": "stdout",
     "output_type": "stream",
     "text": [
      "Iris version: 3.10.0\n"
     ]
    }
   ],
   "source": [
    "print('Iris version: {}'.format(iris.__version__))"
   ]
  },
  {
   "cell_type": "markdown",
   "id": "1bd4b00c",
   "metadata": {},
   "source": [
    "Now we will import some data; namely the A1B scenario global air temperatures file."
   ]
  },
  {
   "cell_type": "code",
   "execution_count": 3,
   "id": "32cdf49f",
   "metadata": {
    "collapsed": false,
    "jupyter": {
     "outputs_hidden": false
    }
   },
   "outputs": [],
   "source": [
    "a1b_cube = iris.load_cube(iris.sample_data_path('A1B.2098.pp'))\n",
    "\n",
    "lats = a1b_cube.coord('latitude')\n",
    "lons = a1b_cube.coord('longitude')\n",
    "if not lats.has_bounds():\n",
    "    lats.guess_bounds()\n",
    "if not lons.has_bounds():\n",
    "    lons.guess_bounds()"
   ]
  },
  {
   "cell_type": "markdown",
   "id": "a0675552",
   "metadata": {},
   "source": [
    "Calculating the geometry weights will require known bounds to our grid cells so if either of our cube's lateral coordinates are not bounded, we use the `guess_bounds` method to set appropriate bounds on each lateral coordinate.\n",
    "\n",
    "Now we will import a shapefile to use, specifically the Natural Earth global country boundaries shapefile."
   ]
  },
  {
   "cell_type": "code",
   "execution_count": 4,
   "id": "d4866683",
   "metadata": {
    "collapsed": false,
    "jupyter": {
     "outputs_hidden": false
    },
    "scrolled": true
   },
   "outputs": [],
   "source": [
    "filename = shpreader.natural_earth(resolution='110m',\n",
    "                                   category='cultural',\n",
    "                                   name='admin_0_countries')\n",
    "borders = shpreader.Reader(filename)\n",
    "uk_geom, = [g for g in borders.records() if g.attributes['NAME_LONG']=='United Kingdom']"
   ]
  },
  {
   "cell_type": "markdown",
   "id": "b9237753",
   "metadata": {},
   "source": [
    "Here the shapefile is specified and read using the `cartopy.io.shapereader` module. The UK's geometry is determined by iterating over all the records in the shapefile, choosing the record where the attribute `name_long` matches 'United Kingdom'.\n",
    "\n",
    "This Natural Earth shapefile was chosen here for simplicity's sake, but any other shapefile can be accessed using the methods demonstrated here. It is worth noting that whilst `shpreader.natural_earth()` will download Natural Earth shapefiles as required, all it returns is a filepath to a shapefile.\n",
    "\n",
    "A very similar process should be able to be followed with any standard shapefile, as all shapefiles should be loaded with both `geometries()` and `records()` methods. The former returns a generator object of each geometry within the shapefile while the latter returns a generator object of each record within the shapefile.\n",
    "\n",
    "A record is made up of a geometry (one of the geometries from the geometries method) and an attributes dictionary. The keys within the attributes dictionary are dependant on the shapefile loaded, but are simple to locate:"
   ]
  },
  {
   "cell_type": "code",
   "execution_count": 5,
   "id": "d581bef0",
   "metadata": {
    "collapsed": false,
    "jupyter": {
     "outputs_hidden": false
    }
   },
   "outputs": [
    {
     "name": "stdout",
     "output_type": "stream",
     "text": [
      "dict_keys(['featurecla', 'scalerank', 'LABELRANK', 'SOVEREIGNT', 'SOV_A3', 'ADM0_DIF', 'LEVEL', 'TYPE', 'TLC', 'ADMIN', 'ADM0_A3', 'GEOU_DIF', 'GEOUNIT', 'GU_A3', 'SU_DIF', 'SUBUNIT', 'SU_A3', 'BRK_DIFF', 'NAME', 'NAME_LONG', 'BRK_A3', 'BRK_NAME', 'BRK_GROUP', 'ABBREV', 'POSTAL', 'FORMAL_EN', 'FORMAL_FR', 'NAME_CIAWF', 'NOTE_ADM0', 'NOTE_BRK', 'NAME_SORT', 'NAME_ALT', 'MAPCOLOR7', 'MAPCOLOR8', 'MAPCOLOR9', 'MAPCOLOR13', 'POP_EST', 'POP_RANK', 'POP_YEAR', 'GDP_MD', 'GDP_YEAR', 'ECONOMY', 'INCOME_GRP', 'FIPS_10', 'ISO_A2', 'ISO_A2_EH', 'ISO_A3', 'ISO_A3_EH', 'ISO_N3', 'ISO_N3_EH', 'UN_A3', 'WB_A2', 'WB_A3', 'WOE_ID', 'WOE_ID_EH', 'WOE_NOTE', 'ADM0_ISO', 'ADM0_DIFF', 'ADM0_TLC', 'ADM0_A3_US', 'ADM0_A3_FR', 'ADM0_A3_RU', 'ADM0_A3_ES', 'ADM0_A3_CN', 'ADM0_A3_TW', 'ADM0_A3_IN', 'ADM0_A3_NP', 'ADM0_A3_PK', 'ADM0_A3_DE', 'ADM0_A3_GB', 'ADM0_A3_BR', 'ADM0_A3_IL', 'ADM0_A3_PS', 'ADM0_A3_SA', 'ADM0_A3_EG', 'ADM0_A3_MA', 'ADM0_A3_PT', 'ADM0_A3_AR', 'ADM0_A3_JP', 'ADM0_A3_KO', 'ADM0_A3_VN', 'ADM0_A3_TR', 'ADM0_A3_ID', 'ADM0_A3_PL', 'ADM0_A3_GR', 'ADM0_A3_IT', 'ADM0_A3_NL', 'ADM0_A3_SE', 'ADM0_A3_BD', 'ADM0_A3_UA', 'ADM0_A3_UN', 'ADM0_A3_WB', 'CONTINENT', 'REGION_UN', 'SUBREGION', 'REGION_WB', 'NAME_LEN', 'LONG_LEN', 'ABBREV_LEN', 'TINY', 'HOMEPART', 'MIN_ZOOM', 'MIN_LABEL', 'MAX_LABEL', 'LABEL_X', 'LABEL_Y', 'NE_ID', 'WIKIDATAID', 'NAME_AR', 'NAME_BN', 'NAME_DE', 'NAME_EN', 'NAME_ES', 'NAME_FA', 'NAME_FR', 'NAME_EL', 'NAME_HE', 'NAME_HI', 'NAME_HU', 'NAME_ID', 'NAME_IT', 'NAME_JA', 'NAME_KO', 'NAME_NL', 'NAME_PL', 'NAME_PT', 'NAME_RU', 'NAME_SV', 'NAME_TR', 'NAME_UK', 'NAME_UR', 'NAME_VI', 'NAME_ZH', 'NAME_ZHT', 'FCLASS_ISO', 'TLC_DIFF', 'FCLASS_TLC', 'FCLASS_US', 'FCLASS_FR', 'FCLASS_RU', 'FCLASS_ES', 'FCLASS_CN', 'FCLASS_TW', 'FCLASS_IN', 'FCLASS_NP', 'FCLASS_PK', 'FCLASS_DE', 'FCLASS_GB', 'FCLASS_BR', 'FCLASS_IL', 'FCLASS_PS', 'FCLASS_SA', 'FCLASS_EG', 'FCLASS_MA', 'FCLASS_PT', 'FCLASS_AR', 'FCLASS_JP', 'FCLASS_KO', 'FCLASS_VN', 'FCLASS_TR', 'FCLASS_ID', 'FCLASS_PL', 'FCLASS_GR', 'FCLASS_IT', 'FCLASS_NL', 'FCLASS_SE', 'FCLASS_BD', 'FCLASS_UA'])\n"
     ]
    }
   ],
   "source": [
    "print(uk_geom.attributes.keys())"
   ]
  },
  {
   "cell_type": "markdown",
   "id": "302517f4",
   "metadata": {},
   "source": [
    "These operations can be performed on any shapefile record.\n",
    "\n",
    "Note, however, that the keys within an attributes dictionary are dependent on the shapefile, and that code that expects a certain key to appear within the attributes may fail if a different shapefile is processed."
   ]
  },
  {
   "cell_type": "markdown",
   "id": "6dc12643",
   "metadata": {},
   "source": [
    "With the UK's geometry selected from the loaded shapefile, it is ready to be passed to the area weights calculating function:"
   ]
  },
  {
   "cell_type": "code",
   "execution_count": 6,
   "id": "a0e34cf3",
   "metadata": {
    "collapsed": false,
    "jupyter": {
     "outputs_hidden": false
    }
   },
   "outputs": [
    {
     "name": "stdout",
     "output_type": "stream",
     "text": [
      "Average UK air temp in 2098: 288.180K\n"
     ]
    },
    {
     "name": "stderr",
     "output_type": "stream",
     "text": [
      "/home/hkeenan/miniconda3/envs/examplecode/lib/python3.12/site-packages/iris/analysis/geometry.py:73: IrisGeometryExceedWarning: The geometry exceeds the cube's x dimension at the lower end.\n",
      "  warnings.warn(\n"
     ]
    }
   ],
   "source": [
    "weights = iag.geometry_area_weights(a1b_cube, uk_geom.geometry)\n",
    "cube_collapsed = a1b_cube.collapsed(['latitude', 'longitude'],\n",
    "                                    iris.analysis.MEAN,\n",
    "                                    weights=weights)\n",
    "print('Average UK air temp in 2098: {:.3f}K'.format(cube_collapsed.data))"
   ]
  },
  {
   "cell_type": "markdown",
   "id": "4f588d2e",
   "metadata": {},
   "source": [
    "These steps calculate the area-weighted values for the cube based on the UK's geometries. These are passed to the collapse call, which collapses to find the area-weighted mean over both lateral coordinates. Finally, the resultant cube's single data point (average UK air temperature in 2098 according to the A1B scenario) is printed."
   ]
  },
  {
   "cell_type": "markdown",
   "id": "00b82650",
   "metadata": {},
   "source": [
    "### Something to be aware of\n",
    "\n",
    "A note of caution to end on. The example shown here works in Euclidean space; curvature of the earth is not accounted for in the weighted area calculations performed."
   ]
  }
 ],
 "metadata": {
  "kernelspec": {
   "display_name": "Python 3 (ipykernel)",
   "language": "python",
   "name": "python3"
  },
  "language_info": {
   "codemirror_mode": {
    "name": "ipython",
    "version": 3
   },
   "file_extension": ".py",
   "mimetype": "text/x-python",
   "name": "python",
   "nbconvert_exporter": "python",
   "pygments_lexer": "ipython3",
   "version": "3.12.5"
  }
 },
 "nbformat": 4,
 "nbformat_minor": 5
}
