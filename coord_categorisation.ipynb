{
 "cells": [
  {
   "cell_type": "markdown",
   "id": "dc388fcd",
   "metadata": {},
   "source": [
    "## Coordinate Categorisation\n",
    "\n",
    "### Introduction\n",
    "\n",
    "Coordinate categorisation allows data within a given coordinate on a cube to be categorised, notably in terms of adding a time category, for example days of week, month or year, or season membership. Such categorisation appears as an aux coord on the cube, having the same dimensions as the time coordinate.\n",
    "\n",
    "Let's take a look at an example. In this example we will take the A1B-scenario climate futures data for North America, which contains 240 yearly timesteps from 1860 to 2099, and categorise this time coord first by year and then by decade. We will use the former categorisation to extract data from the cube from after the year 1980 and the latter categorisation to plot the cube's data on a series of per-decade aggregations."
   ]
  },
  {
   "cell_type": "markdown",
   "id": "a08f98d6",
   "metadata": {},
   "source": [
    "### The Example\n",
    "\n",
    "We will start by importing required libraries, checking versions of Iris and loading the A1B scenario data for North America."
   ]
  },
  {
   "cell_type": "code",
   "execution_count": 10,
   "id": "79433111",
   "metadata": {},
   "outputs": [],
   "source": [
    "import matplotlib.pyplot as plt\n",
    "\n",
    "import iris\n",
    "import iris.coord_categorisation as coord_cat"
   ]
  },
  {
   "cell_type": "code",
   "execution_count": 11,
   "id": "4bd842d9",
   "metadata": {
    "collapsed": false,
    "jupyter": {
     "outputs_hidden": false
    }
   },
   "outputs": [
    {
     "name": "stdout",
     "output_type": "stream",
     "text": [
      "Iris version: 3.10.0\n"
     ]
    }
   ],
   "source": [
    "print('Iris version: {}'.format(iris.__version__))"
   ]
  },
  {
   "cell_type": "code",
   "execution_count": 12,
   "id": "433dc3be",
   "metadata": {
    "collapsed": false,
    "jupyter": {
     "outputs_hidden": false
    }
   },
   "outputs": [
    {
     "name": "stdout",
     "output_type": "stream",
     "text": [
      "air_temperature / (K)               (time: 240; latitude: 37; longitude: 49)\n",
      "    Dimension coordinates:\n",
      "        time                             x              -              -\n",
      "        latitude                         -              x              -\n",
      "        longitude                        -              -              x\n",
      "    Auxiliary coordinates:\n",
      "        forecast_period                  x              -              -\n",
      "    Scalar coordinates:\n",
      "        forecast_reference_time     1859-09-01 06:00:00\n",
      "        height                      1.5 m\n",
      "    Cell methods:\n",
      "        0                           time: mean (interval: 6 hour)\n",
      "    Attributes:\n",
      "        Conventions                 'CF-1.5'\n",
      "        Model scenario              'A1B'\n",
      "        STASH                       m01s03i236\n",
      "        source                      'Data from Met Office Unified Model 6.05'\n"
     ]
    }
   ],
   "source": [
    "a1b_cube = iris.load_cube(iris.sample_data_path('A1B_north_america.nc'))\n",
    "print (a1b_cube)"
   ]
  },
  {
   "cell_type": "markdown",
   "id": "664e31a7",
   "metadata": {},
   "source": [
    "Now we will categorise the time coord by year and use the resultant aux coord to extract a subset of the cube that has a year value of 1980 or greater."
   ]
  },
  {
   "cell_type": "code",
   "execution_count": 4,
   "id": "3e795550",
   "metadata": {
    "collapsed": false,
    "jupyter": {
     "outputs_hidden": false
    }
   },
   "outputs": [
    {
     "name": "stdout",
     "output_type": "stream",
     "text": [
      "air_temperature / (K)               (time: 120; latitude: 37; longitude: 49)\n",
      "    Dimension coordinates:\n",
      "        time                             x              -              -\n",
      "        latitude                         -              x              -\n",
      "        longitude                        -              -              x\n",
      "    Auxiliary coordinates:\n",
      "        forecast_period                  x              -              -\n",
      "        year                             x              -              -\n",
      "    Scalar coordinates:\n",
      "        forecast_reference_time     1859-09-01 06:00:00\n",
      "        height                      1.5 m\n",
      "    Cell methods:\n",
      "        0                           time: mean (interval: 6 hour)\n",
      "    Attributes:\n",
      "        Conventions                 'CF-1.5'\n",
      "        Model scenario              'A1B'\n",
      "        STASH                       m01s03i236\n",
      "        source                      'Data from Met Office Unified Model 6.05'\n"
     ]
    }
   ],
   "source": [
    "coord_cat.add_year(a1b_cube, 'time')\n",
    "after_1980 = a1b_cube.extract(iris.Constraint(year=lambda cell: cell>1979))\n",
    "print (after_1980)"
   ]
  },
  {
   "cell_type": "markdown",
   "id": "f210ef69",
   "metadata": {},
   "source": [
    "Categorising a time coordinate by year is one of the functions built-in to `iris.coord_categorisation`, meaning that happily for us we do not have to write it ourselves. In the above block of code we do two things: add the categorised coordinate and then extract by year greater than 1980. Note that the categorised coordinate appears as an aux coord (`year`) on the cube printed above, and shares a dimension with the time coordinate, as would be expected.\n",
    "\n",
    "Now we will also add a 'decade' aux coord to our smaller cube `after_1980` above. Unlike categorising by year, this is not a built-in function, so we will not get this for free!\n",
    "\n",
    "Instead we will first write a function that will perform the categorisation. This function has the same generalised style as all coord categorisation functions in that it takes a coordinate and a specific point from that coordinate as its argument, and returns the point, categorised as required. This generalised style also means this, or any function like it, can be used with the general coord categorisation function `iris.coord_categorisation.add_categorised_coord`, as will be demonstrated below."
   ]
  },
  {
   "cell_type": "code",
   "execution_count": 5,
   "id": "2d164af6",
   "metadata": {
    "collapsed": false,
    "jupyter": {
     "outputs_hidden": false
    }
   },
   "outputs": [],
   "source": [
    "def decade_from_time(coord, point):\n",
    "    years = coord.units.num2date(point).year\n",
    "    return int(years/10) * 10"
   ]
  },
  {
   "cell_type": "code",
   "execution_count": 6,
   "id": "2ea2fc54",
   "metadata": {},
   "outputs": [
    {
     "name": "stdout",
     "output_type": "stream",
     "text": [
      "air_temperature / (K)               (time: 120; latitude: 37; longitude: 49)\n",
      "    Dimension coordinates:\n",
      "        time                             x              -              -\n",
      "        latitude                         -              x              -\n",
      "        longitude                        -              -              x\n",
      "    Auxiliary coordinates:\n",
      "        decade                           x              -              -\n",
      "        forecast_period                  x              -              -\n",
      "        year                             x              -              -\n",
      "    Scalar coordinates:\n",
      "        forecast_reference_time     1859-09-01 06:00:00\n",
      "        height                      1.5 m\n",
      "    Cell methods:\n",
      "        0                           time: mean (interval: 6 hour)\n",
      "    Attributes:\n",
      "        Conventions                 'CF-1.5'\n",
      "        Model scenario              'A1B'\n",
      "        STASH                       m01s03i236\n",
      "        source                      'Data from Met Office Unified Model 6.05'\n"
     ]
    }
   ],
   "source": [
    "coord_cat.add_categorised_coord(after_1980, 'decade', 'time', decade_from_time)\n",
    "print (after_1980)"
   ]
  },
  {
   "cell_type": "markdown",
   "id": "e3ff5768",
   "metadata": {},
   "source": [
    "Performing this coord categorisation has added a further aux coord to our cube, called `decade`. This contains year values rounded to the decade they sit within, such that 1995 is rounded to 1990 or 2058 is rounded to 2050. This means there are 10 data values for each unique year value within our `decade` coord, so we can aggregate these 10 values together to get one mean value for each decade within our cube.\n",
    "\n",
    "Being able to do things like this is one of the real benefits of coord categorisation.\n",
    "\n",
    "Let's go ahead and aggregate our cube by decade to get decadal mean values. Then we can plot these decadal means."
   ]
  },
  {
   "cell_type": "code",
   "execution_count": 7,
   "id": "22cce129",
   "metadata": {
    "collapsed": false,
    "jupyter": {
     "outputs_hidden": false
    }
   },
   "outputs": [
    {
     "name": "stdout",
     "output_type": "stream",
     "text": [
      "air_temperature / (K)               (time: 12; latitude: 37; longitude: 49)\n",
      "    Dimension coordinates:\n",
      "        time                             x             -              -\n",
      "        latitude                         -             x              -\n",
      "        longitude                        -             -              x\n",
      "    Auxiliary coordinates:\n",
      "        decade                           x             -              -\n",
      "        forecast_period                  x             -              -\n",
      "        year                             x             -              -\n",
      "    Scalar coordinates:\n",
      "        forecast_reference_time     1859-09-01 06:00:00\n",
      "        height                      1.5 m\n",
      "    Cell methods:\n",
      "        0                           time: mean (interval: 6 hour)\n",
      "        1                           decade: mean\n",
      "    Attributes:\n",
      "        Conventions                 'CF-1.5'\n",
      "        Model scenario              'A1B'\n",
      "        STASH                       m01s03i236\n",
      "        source                      'Data from Met Office Unified Model 6.05'\n"
     ]
    }
   ],
   "source": [
    "decadal_means = after_1980.aggregated_by('decade', iris.analysis.MEAN)\n",
    "print (decadal_means)"
   ]
  },
  {
   "cell_type": "markdown",
   "id": "5af8d9d5",
   "metadata": {},
   "source": [
    "As makes sense, our decadal means cube has only 12 timesteps; one for each decade in the 120-year time range of our cube of years after 1980. \n",
    "\n",
    "Note that the values within the time coordinate are now the mean time values across the range covered by each point:"
   ]
  },
  {
   "cell_type": "code",
   "execution_count": 8,
   "id": "7bbda7e8",
   "metadata": {
    "collapsed": false,
    "jupyter": {
     "outputs_hidden": false
    }
   },
   "outputs": [
    {
     "name": "stdout",
     "output_type": "stream",
     "text": [
      "DimCoord :  time / (hours since 1970-01-01 00:00:00, 360_day calendar)\n",
      "    points: [\n",
      "        1984-12-01 00:00:00, 1994-12-01 00:00:00, 2004-12-01 00:00:00,\n",
      "        2014-12-01 00:00:00, 2024-12-01 00:00:00, 2034-12-01 00:00:00,\n",
      "        2044-12-01 00:00:00, 2054-12-01 00:00:00, 2064-12-01 00:00:00,\n",
      "        2074-12-01 00:00:00, 2084-12-01 00:00:00, 2094-12-01 00:00:00]\n",
      "    bounds: [\n",
      "        [1979-12-01 00:00:00, 1989-12-01 00:00:00],\n",
      "        [1989-12-01 00:00:00, 1999-12-01 00:00:00],\n",
      "        ...,\n",
      "        [2079-12-01 00:00:00, 2089-12-01 00:00:00],\n",
      "        [2089-12-01 00:00:00, 2099-12-01 00:00:00]]\n",
      "    shape: (12,)  bounds(12, 2)\n",
      "    dtype: float64\n",
      "    standard_name: 'time'\n",
      "    var_name: 'time'\n"
     ]
    }
   ],
   "source": [
    "print (decadal_means.coord('time'))"
   ]
  },
  {
   "cell_type": "markdown",
   "id": "2d4b2087",
   "metadata": {},
   "source": [
    "To inspect the results visually, we can overlay the original time series information with the decadal means.\n",
    "\n",
    "For simplicity we're just going to plot the values for an arbitrary geographic location:"
   ]
  },
  {
   "cell_type": "code",
   "execution_count": 9,
   "id": "dce5968c",
   "metadata": {
    "collapsed": false,
    "jupyter": {
     "outputs_hidden": false
    },
    "scrolled": true
   },
   "outputs": [
    {
     "data": {
      "image/png": "[encoded data removed]",
      "text/plain": [
       "<Figure size 640x480 with 1 Axes>"
      ]
     },
     "metadata": {},
     "output_type": "display_data"
    }
   ],
   "source": [
    "import iris.quickplot as qplt\n",
    "import matplotlib.pyplot as plt\n",
    "qplt.plot(after_1980[:, 0, 0], label=\"yearly\")\n",
    "qplt.plot(decadal_means[:, 0, 0], drawstyle='steps-mid', label=\"decadal\")\n",
    "plt.legend()\n",
    "qplt.show()\n"
   ]
  },
  {
   "cell_type": "code",
   "execution_count": null,
   "id": "fd06617d-b638-467f-a95f-48039fbcd5d1",
   "metadata": {},
   "outputs": [],
   "source": []
  }
 ],
 "metadata": {
  "kernelspec": {
   "display_name": "Python 3 (ipykernel)",
   "language": "python",
   "name": "python3"
  },
  "language_info": {
   "codemirror_mode": {
    "name": "ipython",
    "version": 3
   },
   "file_extension": ".py",
   "mimetype": "text/x-python",
   "name": "python",
   "nbconvert_exporter": "python",
   "pygments_lexer": "ipython3",
   "version": "3.12.5"
  }
 },
 "nbformat": 4,
 "nbformat_minor": 5
}
