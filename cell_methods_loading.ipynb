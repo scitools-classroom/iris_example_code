{
 "cells": [
  {
   "cell_type": "markdown",
   "id": "4ca91728",
   "metadata": {},
   "source": [
    "## Loading cubes when Cell Methods are present \n",
    "\n",
    "### Introduction\n",
    "\n",
    "Iris can constrain the loading of data to a subset of the entire dataset based on metadata interpreted on the Iris Cube. This includes the ability to constrain based on the cube's cell methods, if present. These cell methods represent operations already applied to the data, describing climatological and diurnal statistics.  Available methods include point, sum, mean, maximum, minimum, mid_range, standard_deviation, variance, mode, and median.  Along with an associated coordinate, an interval is often defined.  An example cell method might be a *time mean of two hours*.  Here the method is \"mean\", \"time\" is the coordinate name and an interval of two hours indicates that the time mean is over a two hour interval.\n",
    "\n",
    "This worked example shows how to constrain the loading of cubes dependent on whether they have one or more cell methods present."
   ]
  },
  {
   "cell_type": "markdown",
   "id": "2c2dd15a",
   "metadata": {},
   "source": [
    "### Writing a constraining function\n",
    "\n",
    "The `iris.Constraint` function can be used to constrain cube loading in many different ways. The one that is of interest to us here is the keyword argument `cube_func`, which allows us to specify a function that takes a cube as its only argument and returns either `True` or `False`.\n",
    "\n",
    "Below is a function that does precisely that, returning `True` or `False` depending on whether the cube passed has cell methods set or not.\n",
    "\n",
    "We will also import Iris, as it's going to be needed later on."
   ]
  },
  {
   "cell_type": "code",
   "execution_count": 1,
   "id": "7154d014-b642-4151-9da3-445b21b0c919",
   "metadata": {
    "collapsed": false,
    "jupyter": {
     "outputs_hidden": false
    }
   },
   "outputs": [
    {
     "name": "stdout",
     "output_type": "stream",
     "text": [
      "Iris version: 3.10.0\n"
     ]
    }
   ],
   "source": [
    "import iris\n",
    "print(f'Iris version: {iris.__version__}')"
   ]
  },
  {
   "cell_type": "code",
   "execution_count": 2,
   "id": "a910f255",
   "metadata": {
    "collapsed": false,
    "jupyter": {
     "outputs_hidden": false
    }
   },
   "outputs": [],
   "source": [
    "def has_cell_methods(cube):\n",
    "    cm = cube.cell_methods\n",
    "    return len(cm) > 0"
   ]
  },
  {
   "cell_type": "markdown",
   "id": "a0bed1b4",
   "metadata": {},
   "source": [
    "The `cell_methods` method always returns a tuple, which will be empty if no cell methods are set on the cube. An empty tuple has length zero, giving us a logical test to run against the input cube to determine if any cell methods are set, as performed in the `return` line above."
   ]
  },
  {
   "cell_type": "markdown",
   "id": "0adc4a96",
   "metadata": {},
   "source": [
    "### Simple constraining\n",
    "\n",
    "All that remains to do is to use our cell methods constraint function when loading some data. We will use three Iris sample data files to test whether it is working. They are:\n",
    "\n",
    "* A1B_north_america.nc (one cube of air temperature that does have cell methods),\n",
    "* ostia_monthly.nc (one cube of surface_temperature with cell methods), and\n",
    "* colpex.pp (comprised of two cubes [air potential temperature and air pressure], neither of which have any cell methods).\n",
    "    \n",
    "If our constraint function above works as expected, we would expect to see the cubes from the first two files loaded fine, but neither of the cubes from the third file.\n",
    "\n",
    "Let's test this. First we need to add our function to a constraint that we can use when loading our data:"
   ]
  },
  {
   "cell_type": "code",
   "execution_count": 3,
   "id": "6093e9a9",
   "metadata": {
    "collapsed": false,
    "jupyter": {
     "outputs_hidden": false
    }
   },
   "outputs": [],
   "source": [
    "cm_constraint = iris.Constraint(cube_func=has_cell_methods)"
   ]
  },
  {
   "cell_type": "markdown",
   "id": "dc63b78a",
   "metadata": {},
   "source": [
    "Now we can test it out on our sample data. Let's start by loading the data into an Iris `cubelist` of the three cubes loaded by our data:"
   ]
  },
  {
   "cell_type": "code",
   "execution_count": 4,
   "id": "34b0e576",
   "metadata": {
    "collapsed": false,
    "jupyter": {
     "outputs_hidden": false
    }
   },
   "outputs": [
    {
     "name": "stdout",
     "output_type": "stream",
     "text": [
      "air_potential_temperature / (K)     (time: 6; model_level_number: 10; grid_latitude: 83; grid_longitude: 83)\n",
      "\tCell Methods = ()\n",
      "\n",
      "air_pressure / (Pa)                 (time: 6; model_level_number: 10; grid_latitude: 83; grid_longitude: 83)\n",
      "\tCell Methods = ()\n",
      "\n",
      "air_temperature / (K)               (time: 240; latitude: 37; longitude: 49)\n",
      "\tCell Methods = (CellMethod(method='mean', coord_names=('time',), intervals=('6 hour',), comments=()),)\n",
      "\n",
      "surface_temperature / (K)           (time: 54; latitude: 18; longitude: 432)\n",
      "\tCell Methods = (CellMethod(method='mean', coord_names=('month', 'year'), intervals=(), comments=()),)\n",
      "\n"
     ]
    },
    {
     "name": "stderr",
     "output_type": "stream",
     "text": [
      "/home/hkeenan/miniconda3/envs/examplecode/lib/python3.12/site-packages/iris/fileformats/rules.py:340: IrisUserWarning: Unable to create instance of HybridHeightFactory. The source data contains no field(s) for 'orography'.\n",
      "  warnings.warn(\n"
     ]
    }
   ],
   "source": [
    "a1b_fname = iris.sample_data_path('A1B_north_america.nc')\n",
    "colpex_fname = iris.sample_data_path('colpex.pp')\n",
    "ostia_fname = iris.sample_data_path('ostia_monthly.nc')\n",
    "\n",
    "cubelist = iris.load([a1b_fname, colpex_fname, ostia_fname])\n",
    "for cube in cubelist:\n",
    "    print('{}\\n\\tCell Methods = {}\\n'.format(cube.summary(True), cube.cell_methods))"
   ]
  },
  {
   "cell_type": "markdown",
   "id": "3fad570c",
   "metadata": {},
   "source": [
    "We can now extract from our cubelist using the constraint we defined above. This will leave only the cubes where cell methods are defined:"
   ]
  },
  {
   "cell_type": "code",
   "execution_count": 5,
   "id": "9688c902",
   "metadata": {
    "collapsed": false,
    "jupyter": {
     "outputs_hidden": false
    }
   },
   "outputs": [
    {
     "name": "stdout",
     "output_type": "stream",
     "text": [
      "0: air_temperature / (K)               (time: 240; latitude: 37; longitude: 49)\n",
      "1: surface_temperature / (K)           (time: 54; latitude: 18; longitude: 432)\n"
     ]
    }
   ],
   "source": [
    "print (cubelist.extract(cm_constraint))"
   ]
  },
  {
   "cell_type": "markdown",
   "id": "8df80351",
   "metadata": {},
   "source": [
    "Good news! Using our constraint to extract from the cubelist has returned only the cube with cell methods defined."
   ]
  },
  {
   "cell_type": "markdown",
   "id": "da7cc1a1",
   "metadata": {},
   "source": [
    "### Constraining based on the methods used\n",
    "\n",
    "We can go further than what is demonstrated in the example above, as we can also constrain loading based on the specifics of the cell methods used. From the printed cubelist above it is clear that while both cubes with cell methods have the same method (`mean`) deployed, the specifics of that mean change, in terms of both the coordinates affected and the interval defined.\n",
    "\n",
    "We can use these differences to select *just one* of the two cubes with cell methods. Let's define a constraint that will only load the `air_temperature` cube in the list immediately above:"
   ]
  },
  {
   "cell_type": "code",
   "execution_count": 6,
   "id": "e0490d66",
   "metadata": {
    "collapsed": false,
    "jupyter": {
     "outputs_hidden": false
    }
   },
   "outputs": [],
   "source": [
    "interval_6_hr = iris.coords.CellMethod('mean', coords='time', intervals='6 hour')\n",
    "constraint_6_hr = iris.Constraint(cube_func=lambda cube: interval_6_hr in cube.cell_methods)"
   ]
  },
  {
   "cell_type": "markdown",
   "id": "8019fe0b",
   "metadata": {},
   "source": [
    "This is a two-step process. First we define a cell method based on the definition of the cell methods we want to match to, and then test for its inclusion in the cell methods of a given cube when we reference it in the new constraint defined. Let's test our new constraint on our cubelist:"
   ]
  },
  {
   "cell_type": "code",
   "execution_count": 7,
   "id": "f6f7aea9",
   "metadata": {
    "collapsed": false,
    "jupyter": {
     "outputs_hidden": false
    }
   },
   "outputs": [
    {
     "name": "stdout",
     "output_type": "stream",
     "text": [
      "0: air_temperature / (K)               (time: 240; latitude: 37; longitude: 49)\n"
     ]
    }
   ],
   "source": [
    "print (cubelist.extract(constraint_6_hr))"
   ]
  },
  {
   "cell_type": "markdown",
   "id": "2dbb74f7",
   "metadata": {},
   "source": [
    "So now we can not only extract from a cubelist based on the general presence of cell methods, but also on the presence of a specific, pre-defined cell methods instance."
   ]
  }
 ],
 "metadata": {
  "kernelspec": {
   "display_name": "Python 3 (ipykernel)",
   "language": "python",
   "name": "python3"
  },
  "language_info": {
   "codemirror_mode": {
    "name": "ipython",
    "version": 3
   },
   "file_extension": ".py",
   "mimetype": "text/x-python",
   "name": "python",
   "nbconvert_exporter": "python",
   "pygments_lexer": "ipython3",
   "version": "3.12.5"
  }
 },
 "nbformat": 4,
 "nbformat_minor": 5
}
